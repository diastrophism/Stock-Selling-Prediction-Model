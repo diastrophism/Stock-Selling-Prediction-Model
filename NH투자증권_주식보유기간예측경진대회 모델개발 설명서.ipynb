{
  "nbformat": 4,
  "nbformat_minor": 0,
  "metadata": {
    "colab": {
      "name": "NH투자증권_주식보유기간예측경진대회 모델개발설명서.ipynb",
      "provenance": [],
      "collapsed_sections": []
    },
    "kernelspec": {
      "display_name": "Python 3",
      "name": "python3"
    },
    "language_info": {
      "name": "python"
    }
  },
  "cells": [
    {
      "cell_type": "markdown",
      "metadata": {
        "id": "XFTgXRK1ILvi"
      },
      "source": [
        "------\n",

        "-----\n"
      ]
    },
    {
      "cell_type": "code",
      "metadata": {
        "id": "LKAewFQBRaxk"
      },
      "source": [
        "import pandas as pd\n",
        "pd.set_option(\"display.max_row\", 100)\n",
        "pd.set_option(\"display.max_column\", 100)\n",
        "import numpy as np\n",
        "import os\n",
        "\n",
        "import matplotlib.pyplot as plt\n",
        "import seaborn as sns\n",
        "plt.style.use('seaborn')\n",
        "sns.set(font_scale = 2)\n",
        "\n",
        "from sklearn.preprocessing import LabelEncoder\n",
        "from sklearn.metrics import mean_squared_error as mse\n",
        "from sklearn.model_selection import train_test_split, StratifiedKFold, KFold\n",
        "from sklearn.utils import shuffle\n",
        "from lightgbm import LGBMRegressor"
      ],
      "execution_count": null,
      "outputs": []
    },
    {
      "cell_type": "code",
      "metadata": {
        "id": "7Q8xkbDETqhQ"
      },
      "source": [
        "cus = pd.read_csv(\"/content/drive/MyDrive/Colab Notebooks/open/cus_info.csv\")\n",
        "iem = pd.read_csv(\"/content/drive/MyDrive/Colab Notebooks/open/iem_info_20210902.csv\")\n",
        "hist = pd.read_csv(\"/content/drive/MyDrive/Colab Notebooks/open/stk_bnc_hist.csv\")\n",
        "train = pd.read_csv(\"/content/drive/MyDrive/Colab Notebooks/open/stk_hld_train.csv\")\n",
        "test = pd.read_csv(\"/content/drive/MyDrive/Colab Notebooks/open/stk_hld_test.csv\")\n",
        "submission = pd.read_csv(\"/content/drive/MyDrive/Colab Notebooks/open/sample_submission.csv\")"
      ],
      "execution_count": null,
      "outputs": []
    },
    {
      "cell_type": "markdown",
      "metadata": {
        "id": "_jftP_PGN6W6"
      },
      "source": [
        " - 이 대회는 2020년 12월 31일 이전에 매수한 상품을 언제 매도할지를 예측하는 대회입니다.\n",
        " \n",
        " - train 데이터의 'hold_d' 컬럼은 2021년 이전에 매도가 종료된 데이터만 존재하고, 2021년 이전에 사서 투자중인 데이터는 test 데이터로 넘어왔습니다.\n",
        "\n",
        " - 2020년 12월 31일에 주식을 사서 그 다음 개장일인 2021년 1월 4일에 팔았다고 하여도 최소 보유기간은 2일입니다. 그리하여 train에서 보유기간이 1일 이하인 데이터는 drop을 하였습니다.\n"
      ]
    },
    {
      "cell_type": "code",
      "metadata": {
        "id": "3O6dpNsQbFQs"
      },
      "source": [
        "train = train.drop(train[train['hold_d'] <= 1].index)"
      ],
      "execution_count": null,
      "outputs": []
    },
    {
      "cell_type": "markdown",
      "metadata": {
        "id": "neXfzE0pPabh"
      },
      "source": [
        "- 'A'라는 사람이 2021년 이전에 단타를 주로 쳤다고하여 test 데이터에 존재하는 'A'가 가진 상품을 빨리 팔것이라 예측하는 것이 적합한지에 대한 의문을 가졌습니다.\n",
        "\n",
        "- 왜냐하면 2021년 이후에 구매한 상품의 매도일을 예측하는 것이 아닌 2021년 이전에 구매한 상품을 2021년 이후 언제 매도할지 예측하는 것이기 때문입니다.\n",
        "\n",
        "- 위와같은 데이터가 지닌 특성으로 인해 train 데이터에 비해 test 데이터에 장기 투자중인 상품이 많이 있을 것이라 판단하였습니다.\n",
        "\n",
        "- 그리하여 train의 hold_d 컬럼을 기준으로 단타 데이터를 포함하여 학습한 모델, 단타 데이터를 제외하여 학습한 모델을 따로 만들었습니다."
      ]
    },
    {
      "cell_type": "code",
      "metadata": {
        "colab": {
          "base_uri": "https://localhost:8080/"
        },
        "id": "30KmXRtWmvce",
        "outputId": "fc536458-58a9-42b2-f6e4-d04f3654e309"
      },
      "source": [
        "idx_0 = train[train.hold_d <= 30].index\n",
        "idx_1 = train[train.hold_d > 30].index\n",
        "idx_2 = train[train.hold_d > 146].index\n",
        "\n",
        "nb_0 = len(train.loc[idx_0])\n",
        "nb_1 = len(train.loc[idx_1])\n",
        "nb_2 = len(train.loc[idx_2])\n",
        "\n",
        "print(\"train에서 'hold_d' 컬럼값이 30일 이하인 data 수 : {}\".format(nb_0))\n",
        "print(\"train에서 'hold_d' 컬럼값이 31일 이상인 data 수 : {}\".format(nb_1))\n",
        "print(\"train에서 'hold_d' 컬럼값이 147일 이상인 data 수 : {}\".format(nb_2))"
      ],
      "execution_count": null,
      "outputs": [
        {
          "output_type": "stream",
          "name": "stdout",
          "text": [
            "train에서 'hold_d' 컬럼값이 30일 이하인 data 수 : 394931\n",
            "train에서 'hold_d' 컬럼값이 31일 이상인 data 수 : 96533\n",
            "train에서 'hold_d' 컬럼값이 147일 이상인 data 수 : 17454\n"
          ]
        }
      ]
    },
    {
      "cell_type": "code",
      "metadata": {
        "id": "KCliAeWYaVvk"
      },
      "source": [
        "train_2 = train.loc[idx_1].reset_index(drop=True)"
      ],
      "execution_count": null,
      "outputs": []
    },
    {
      "cell_type": "code",
      "metadata": {
        "id": "JUZQblEsSUFY"
      },
      "source": [
        "#정보제공 미동의(0)와 미정의(99)를 결측치로 보고 합쳐서 6으로 치환\n",
        "cus.loc[(cus['ivs_icn_cd'] == 99) | (cus['ivs_icn_cd'] == 0), 'ivs_icn_cd'] = 6"
      ],
      "execution_count": null,
      "outputs": []
    },
    {
      "cell_type": "code",
      "metadata": {
        "id": "lEn0e6qf6BoU"
      },
      "source": [
        "data = pd.merge(train, cus, how = \"left\", on = [\"act_id\"])"
      ],
      "execution_count": null,
      "outputs": []
    },
    {
      "cell_type": "code",
      "metadata": {
        "colab": {
          "base_uri": "https://localhost:8080/",
          "height": 427
        },
        "id": "FUWLoiWb6e4j",
        "outputId": "2b8ae6a6-6ff1-4032-fd10-51b0c27ae77e"
      },
      "source": [
        "sns.factorplot('ivs_icn_cd', 'hold_d', hue = 'sex_dit_cd', data = data)\n",
        "plt.show()"
      ],
      "execution_count": null,
      "outputs": [
        {
          "output_type": "stream",
          "name": "stderr",
          "text": [
            "/usr/local/lib/python3.7/dist-packages/seaborn/categorical.py:3717: UserWarning: The `factorplot` function has been renamed to `catplot`. The original name will be removed in a future release. Please update your code. Note that the default `kind` in `factorplot` (`'point'`) has changed `'strip'` in `catplot`.\n",
            "  warnings.warn(msg)\n",
            "/usr/local/lib/python3.7/dist-packages/seaborn/_decorators.py:43: FutureWarning: Pass the following variables as keyword args: x, y. From version 0.12, the only valid positional argument will be `data`, and passing other arguments without an explicit keyword will result in an error or misinterpretation.\n",
            "  FutureWarning\n"
          ]
        },
        {
          "output_type": "display_data",
          "data": {
            "image/png": "[encoded data removed]",
            "text/plain": [
              "<Figure size 502.6x360 with 1 Axes>"
            ]
          },
          "metadata": {}
        }
      ]
    },
    {
      "cell_type": "markdown",
      "metadata": {
        "id": "BaXir1-37xqE"
      },
      "source": [
        "- factorplot을 이용하여 성별을 구분하여 투자성향에 따른 보유기간을 보니 확실히 투자성향이 안전적인 투자에서 공격적인 투자로 갈수록 보유 기간이 증가함을 알 수 있습니다.\n",
        "\n",
        "- 즉, **보유기간을 예측하는데에 중요한 feature로 판단되었습니다.**\n",
        "\n",
        "- 위 plot에서 전문투자자형을 제외하고는 분산이 굉장히 적은 것을 확인할 수 있습니다. \n",
        "\n",
        "- 결측치에 해당하는 6과 5의 hold_d평균이 굉장히 비슷하기 때문에 6인 사람들을 5로 치환해주었습니다."
      ]
    },
    {
      "cell_type": "code",
      "metadata": {
        "id": "Wvhi2pySR0Pc"
      },
      "source": [
        "#정보제공 미동의(0)와 미정의(99)를 결측치로 보고 합쳐서 5로 치환\n",
        "cus.loc[(cus['ivs_icn_cd'] == 6), 'ivs_icn_cd'] = 5"
      ],
      "execution_count": null,
      "outputs": []
    },
    {
      "cell_type": "code",
      "metadata": {
        "colab": {
          "base_uri": "https://localhost:8080/"
        },
        "id": "71ZF362f7zJE",
        "outputId": "84ad2dc5-f870-4351-f275-33c6a9a03925"
      },
      "source": [
        "iem['stk_dit_cd'].value_counts()"
      ],
      "execution_count": null,
      "outputs": [
        {
          "output_type": "execute_result",
          "data": {
            "text/plain": [
              "99    2728\n",
              "1      201\n",
              "2      150\n",
              "Name: stk_dit_cd, dtype: int64"
            ]
          },
          "metadata": {},
          "execution_count": 10
        }
      ]
    },
    {
      "cell_type": "code",
      "metadata": {
        "colab": {
          "base_uri": "https://localhost:8080/"
        },
        "id": "wgQmrccn7W1o",
        "outputId": "e5e13549-2f89-4b8c-fa28-9567f7f840ae"
      },
      "source": [
        "missings = iem[iem['stk_dit_cd'] == 99]['stk_dit_cd'].count()\n",
        "print(missings)\n",
        "misssings_perc = missings / iem.shape[0]\n",
        "print('missing percent : {:.2%}'.format(misssings_perc))"
      ],
      "execution_count": null,
      "outputs": [
        {
          "output_type": "stream",
          "name": "stdout",
          "text": [
            "2728\n",
            "missing percent : 88.60%\n"
          ]
        }
      ]
    },
    {
      "cell_type": "markdown",
      "metadata": {
        "id": "yg4mid3785QC"
      },
      "source": [
        "- stk_dit_cd 컬럼은 결측치가 너무 많기 때문에 drop."
      ]
    },
    {
      "cell_type": "code",
      "metadata": {
        "colab": {
          "base_uri": "https://localhost:8080/"
        },
        "id": "FgzH-UN5S-69",
        "outputId": "1127a47c-aa77-476b-d376-032411f83025"
      },
      "source": [
        "train.shape"
      ],
      "execution_count": null,
      "outputs": [
        {
          "output_type": "execute_result",
          "data": {
            "text/plain": [
              "(491464, 4)"
            ]
          },
          "metadata": {},
          "execution_count": 103
        }
      ]
    },
    {
      "cell_type": "code",
      "metadata": {
        "colab": {
          "base_uri": "https://localhost:8080/"
        },
        "id": "zJLOFw3faokb",
        "outputId": "533a3fb6-3338-4ea8-f9ff-15c1c85312ae"
      },
      "source": [
        "train_2.shape"
      ],
      "execution_count": null,
      "outputs": [
        {
          "output_type": "execute_result",
          "data": {
            "text/plain": [
              "(96533, 4)"
            ]
          },
          "metadata": {},
          "execution_count": 104
        }
      ]
    },
    {
      "cell_type": "code",
      "metadata": {
        "id": "0cEsNjwI7Add"
      },
      "source": [
        "data_1 = pd.concat([train, test, cus, hist], axis = 0)\n",
        "data_2 = pd.concat([train_2, test, cus, hist], axis = 0)\n",
        "\n",
        "L_encoder = LabelEncoder()\n",
        "data_1['act_id'] = L_encoder.fit_transform(data_1['act_id'])\n",
        "data_2['act_id'] = L_encoder.fit_transform(data_2['act_id'])\n",
        "\n",
        "train = data_1[['act_id', 'iem_cd', 'byn_dt', 'hold_d']][0:train.shape[0]]\n",
        "test = data_1[['act_id', 'iem_cd', 'byn_dt','hist_d', 'submit_id', 'hold_d']][train.shape[0]:train.shape[0]+test.shape[0]]\n",
        "cus = data_1[['act_id', 'sex_dit_cd', 'cus_age_stn_cd', 'ivs_icn_cd', 'cus_aet_stn_cd', 'mrz_pdt_tp_sgm_cd', 'lsg_sgm_cd', 'tco_cus_grd_cd', 'tot_ivs_te_sgm_cd', 'mrz_btp_dit_cd']][train.shape[0]+test.shape[0] : train.shape[0]+test.shape[0]+cus.shape[0]]\n",
        "hist = data_1[['act_id', 'bse_dt', 'iem_cd', 'bnc_qty', 'tot_aet_amt', 'stk_par_pr']][train.shape[0]+test.shape[0]+cus.shape[0]:]\n",
        "\n",
        "train_2 = data_2[['act_id', 'iem_cd', 'byn_dt', 'hold_d']][0:train_2.shape[0]]\n",
        "test_2 = data_2[['act_id', 'iem_cd', 'byn_dt','hist_d', 'submit_id', 'hold_d']][train_2.shape[0]:train_2.shape[0]+test.shape[0]]\n",
        "cus_2 = data_2[['act_id', 'sex_dit_cd', 'cus_age_stn_cd', 'ivs_icn_cd', 'cus_aet_stn_cd', 'mrz_pdt_tp_sgm_cd', 'lsg_sgm_cd', 'tco_cus_grd_cd', 'tot_ivs_te_sgm_cd', 'mrz_btp_dit_cd']][train_2.shape[0]+test.shape[0] : train_2.shape[0]+test.shape[0]+cus.shape[0]]\n",
        "hist_2 = data_2[['act_id', 'bse_dt', 'iem_cd', 'bnc_qty', 'tot_aet_amt', 'stk_par_pr']][train_2.shape[0]+test.shape[0]+cus.shape[0]:]\n"
      ],
      "execution_count": null,
      "outputs": []
    },
    {
      "cell_type": "markdown",
      "metadata": {
        "id": "sVcpxNBBchWY"
      },
      "source": [
        "- act_id 컬럼을 라벨인코딩해주었습니다."
      ]
    },
    {
      "cell_type": "code",
      "metadata": {
        "id": "52Hd1-xeYTgm"
      },
      "source": [
        "train_data = pd.merge(train, cus, how = \"left\", on = [\"act_id\"])\n",
        "train_data = pd.merge(train_data, iem, how = \"left\", on = [\"iem_cd\"])\n",
        "\n",
        "test_data = pd.merge(test, cus, how = \"left\", on = [\"act_id\"])\n",
        "test_data = pd.merge(test_data, iem, how = \"left\", on = [\"iem_cd\"])"
      ],
      "execution_count": null,
      "outputs": []
    },
    {
      "cell_type": "code",
      "metadata": {
        "id": "6F4Xn82jE4Kn"
      },
      "source": [
        "train_data2 = pd.merge(train_2, cus_2, how = \"left\", on = [\"act_id\"])\n",
        "train_data2 = pd.merge(train_data2, iem, how = \"left\", on = [\"iem_cd\"])\n",
        "\n",
        "test_data2 = pd.merge(test_2, cus_2, how = \"left\", on = [\"act_id\"])\n",
        "test_data2 = pd.merge(test_data2, iem, how = \"left\", on = [\"iem_cd\"])"
      ],
      "execution_count": null,
      "outputs": []
    },
    {
      "cell_type": "code",
      "metadata": {
        "id": "F_McHyJSUth2"
      },
      "source": [
        "hist = hist.fillna(0)\n",
        "\n",
        "train_data = pd.merge(train_data, hist, how = \"left\", on = [\"act_id\", \"iem_cd\"])\n",
        "train_data = train_data[(train_data[\"byn_dt\"] == train_data[\"bse_dt\"])]\n",
        "train_data.reset_index(drop = True, inplace = True)\n",
        "\n",
        "test_data = pd.merge(test_data, hist, how = \"left\", on = [\"act_id\", \"iem_cd\"])\n",
        "test_data = test_data[(test_data[\"byn_dt\"] == test_data[\"bse_dt\"])]\n",
        "test_data.reset_index(drop = True, inplace = True)\n",
        "\n",
        "train_data = train_data.drop([\"iem_cd\", \"byn_dt\", \"bse_dt\", \"stk_par_pr\", \"cus_age_stn_cd\", \"tco_cus_grd_cd\", \"bnc_qty\", \"tot_aet_amt\", \"stk_dit_cd\", \"mkt_pr_tal_scl_tp_cd\"], axis = 1)\n",
        "test_data = test_data.drop([ \"iem_cd\", \"byn_dt\", \"submit_id\", \"hold_d\", \"bse_dt\", \"stk_par_pr\", \"cus_age_stn_cd\", \"tco_cus_grd_cd\", \"bnc_qty\", \"tot_aet_amt\", \"stk_dit_cd\", \"mkt_pr_tal_scl_tp_cd\"], axis = 1)\n",
        "\n",
        "L_encoder = LabelEncoder()\n",
        "L_encoder.fit(iem[\"iem_krl_nm\"])\n",
        "train_data[\"iem_krl_nm\"] = L_encoder.transform(train_data[\"iem_krl_nm\"])\n",
        "test_data[\"iem_krl_nm\"] = L_encoder.transform(test_data[\"iem_krl_nm\"])"
      ],
      "execution_count": null,
      "outputs": []
    },
    {
      "cell_type": "code",
      "metadata": {
        "id": "034-11M7Fw8I"
      },
      "source": [
        "hist_2 = hist_2.fillna(0)\n",
        "\n",
        "train_data2 = pd.merge(train_data2, hist_2, how = \"left\", on = [\"act_id\", \"iem_cd\"])\n",
        "train_data2= train_data2[(train_data2[\"byn_dt\"] == train_data2[\"bse_dt\"])]\n",
        "train_data2.reset_index(drop = True, inplace = True)\n",
        "\n",
        "test_data2 = pd.merge(test_data2, hist_2, how = \"left\", on = [\"act_id\", \"iem_cd\"])\n",
        "test_data2 = test_data2[(test_data2[\"byn_dt\"] == test_data2[\"bse_dt\"])]\n",
        "test_data2.reset_index(drop = True, inplace = True)\n",
        "\n",
        "train_data2 = train_data2.drop([\"iem_cd\", \"byn_dt\", \"bse_dt\", \"stk_par_pr\", \"cus_age_stn_cd\", \"tco_cus_grd_cd\", \"bnc_qty\", \"tot_aet_amt\", \"stk_dit_cd\", \"mkt_pr_tal_scl_tp_cd\"], axis = 1)\n",
        "test_data2 = test_data2.drop([ \"iem_cd\", \"byn_dt\", \"submit_id\", \"hold_d\", \"bse_dt\", \"stk_par_pr\", \"cus_age_stn_cd\", \"tco_cus_grd_cd\", \"bnc_qty\", \"tot_aet_amt\", \"stk_dit_cd\", \"mkt_pr_tal_scl_tp_cd\"], axis = 1)\n",
        "\n",
        "L_encoder = LabelEncoder()\n",
        "L_encoder.fit(iem[\"iem_krl_nm\"])\n",
        "train_data2[\"iem_krl_nm\"] = L_encoder.transform(train_data2[\"iem_krl_nm\"])\n",
        "test_data2[\"iem_krl_nm\"] = L_encoder.transform(test_data2[\"iem_krl_nm\"])"
      ],
      "execution_count": null,
      "outputs": []
    },
    {
      "cell_type": "code",
      "metadata": {
        "colab": {
          "base_uri": "https://localhost:8080/"
        },
        "id": "FMesjZIKQ780",
        "outputId": "7ff14700-efcb-4573-d83c-3936346cba17"
      },
      "source": [
        "idx1 = test_data[test_data.hist_d <= 30].index\n",
        "idx1_list = list(idx1)\n",
        "\n",
        "idx2 = test_data[test_data.hist_d > 30].index\n",
        "idx2_list = list(idx2)\n",
        "\n",
        "test_data_1 = test_data.loc[idx1_list].reset_index(drop=True)\n",
        "test_data_2 = test_data.loc[idx2_list].reset_index(drop=True)\n",
        "print(test_data_1.shape)\n",
        "print(test_data_2.shape)"
      ],
      "execution_count": null,
      "outputs": [
        {
          "output_type": "stream",
          "name": "stdout",
          "text": [
            "(28853, 11)\n",
            "(41743, 11)\n"
          ]
        }
      ]
    },
    {
      "cell_type": "markdown",
      "metadata": {
        "id": "CRA5IVZBc8uR"
      },
      "source": [
        "- test의 hist_d 컬럼을 기준으로 30일 이하의 데이터는 단타 데이터를 포함하여 학습한 모델로 예측하고 30일 초과의 데이터는 단타 데이터를 제외하여 학습한 모델로 예측하였습니다. "
      ]
    },
    {
      "cell_type": "code",
      "metadata": {
        "id": "OjnTMNs5Zro-"
      },
      "source": [
        "train_label = train_data[\"hold_d\"]\n",
        "train_label2 = train_data2[\"hold_d\"]\n",
        "train_data.drop([\"hold_d\"], axis = 1, inplace = True)\n",
        "train_data2.drop([\"hold_d\"], axis = 1, inplace = True)\n",
        "\n",
        "test_data_1.drop([\"hist_d\"], axis = 1, inplace = True)\n",
        "test_data_2.drop([\"hist_d\"], axis = 1, inplace = True)"
      ],
      "execution_count": null,
      "outputs": []
    },
    {
      "cell_type": "code",
      "metadata": {
        "id": "Gg4OQCTDc0yt"
      },
      "source": [
        "train_data.reset_index(drop = True, inplace = True)\n",
        "train_data2.reset_index(drop = True, inplace = True)\n",
        "\n",
        "test_data_1.reset_index(drop = True, inplace = True)\n",
        "test_data_2.reset_index(drop = True, inplace = True)"
      ],
      "execution_count": null,
      "outputs": []
    },
    {
      "cell_type": "markdown",
      "metadata": {
        "id": "e9cfVsh9duuI"
      },
      "source": [
        "- 모델은 lgbm regressor를 이용하였습니다."
      ]
    },
    {
      "cell_type": "code",
      "metadata": {
        "colab": {
          "base_uri": "https://localhost:8080/"
        },
        "id": "0_mnjP93gcr9",
        "outputId": "6f406ff8-d6fd-4979-eea2-7d61097324f8"
      },
      "source": [
        "models = []\n",
        "\n",
        "folds = KFold(n_splits = 10)\n",
        "\n",
        "for train_idx, val_idx in folds.split(train_data):\n",
        "\n",
        "  train_x = train_data.iloc[train_idx, :]\n",
        "  train_y = train_label[train_idx]\n",
        "\n",
        "  val_x = train_data.iloc[val_idx, :]\n",
        "  val_y = train_label.iloc[val_idx]\n",
        "\n",
        "  model = LGBMRegressor(objective = \"regression\",\n",
        "                        max_depth = 5,\n",
        "                        n_estimators = 2000,\n",
        "                        learning_rate = 0.01,\n",
        "                        num_leaves = 31)\n",
        "  \n",
        "  model.fit(train_x, train_y,\n",
        "            eval_set = [(val_x, val_y)],\n",
        "            eval_metric = [\"rmse\"],\n",
        "            early_stopping_rounds = 500,\n",
        "            verbose = 500)\n",
        "  \n",
        "  models.append(model)"
      ],
      "execution_count": null,
      "outputs": [
        {
          "output_type": "stream",
          "name": "stdout",
          "text": [
            "Training until validation scores don't improve for 500 rounds.\n",
            "[500]\tvalid_0's l2: 5499.9\tvalid_0's rmse: 74.1613\n",
            "Early stopping, best iteration is:\n",
            "[127]\tvalid_0's l2: 5467.57\tvalid_0's rmse: 73.943\n",
            "Training until validation scores don't improve for 500 rounds.\n",
            "[500]\tvalid_0's l2: 6707.35\tvalid_0's rmse: 81.8984\n",
            "Early stopping, best iteration is:\n",
            "[494]\tvalid_0's l2: 6707.05\tvalid_0's rmse: 81.8966\n",
            "Training until validation scores don't improve for 500 rounds.\n",
            "[500]\tvalid_0's l2: 7406.58\tvalid_0's rmse: 86.0615\n",
            "Early stopping, best iteration is:\n",
            "[492]\tvalid_0's l2: 7406.34\tvalid_0's rmse: 86.0601\n",
            "Training until validation scores don't improve for 500 rounds.\n",
            "[500]\tvalid_0's l2: 5093.86\tvalid_0's rmse: 71.3713\n",
            "[1000]\tvalid_0's l2: 5088.45\tvalid_0's rmse: 71.3334\n",
            "[1500]\tvalid_0's l2: 5087.36\tvalid_0's rmse: 71.3257\n",
            "Early stopping, best iteration is:\n",
            "[1468]\tvalid_0's l2: 5086.48\tvalid_0's rmse: 71.3196\n",
            "Training until validation scores don't improve for 500 rounds.\n",
            "[500]\tvalid_0's l2: 4099\tvalid_0's rmse: 64.0235\n",
            "Early stopping, best iteration is:\n",
            "[352]\tvalid_0's l2: 4097.48\tvalid_0's rmse: 64.0115\n",
            "Training until validation scores don't improve for 500 rounds.\n",
            "[500]\tvalid_0's l2: 3054.38\tvalid_0's rmse: 55.2665\n",
            "Early stopping, best iteration is:\n",
            "[114]\tvalid_0's l2: 3031.11\tvalid_0's rmse: 55.0556\n",
            "Training until validation scores don't improve for 500 rounds.\n",
            "[500]\tvalid_0's l2: 1717.2\tvalid_0's rmse: 41.4391\n",
            "Early stopping, best iteration is:\n",
            "[319]\tvalid_0's l2: 1712.18\tvalid_0's rmse: 41.3785\n",
            "Training until validation scores don't improve for 500 rounds.\n",
            "[500]\tvalid_0's l2: 1122.78\tvalid_0's rmse: 33.508\n",
            "Early stopping, best iteration is:\n",
            "[342]\tvalid_0's l2: 1120.53\tvalid_0's rmse: 33.4743\n",
            "Training until validation scores don't improve for 500 rounds.\n",
            "[500]\tvalid_0's l2: 624.809\tvalid_0's rmse: 24.9962\n",
            "Early stopping, best iteration is:\n",
            "[357]\tvalid_0's l2: 623.128\tvalid_0's rmse: 24.9625\n",
            "Training until validation scores don't improve for 500 rounds.\n",
            "[500]\tvalid_0's l2: 623.526\tvalid_0's rmse: 24.9705\n",
            "Early stopping, best iteration is:\n",
            "[300]\tvalid_0's l2: 617.422\tvalid_0's rmse: 24.848\n"
          ]
        }
      ]
    },
    {
      "cell_type": "code",
      "metadata": {
        "colab": {
          "base_uri": "https://localhost:8080/"
        },
        "id": "S_9z1olxLjop",
        "outputId": "4ee1e3f9-f56c-44f5-afbd-63e1fda3a485"
      },
      "source": [
        "models2 = []\n",
        "\n",
        "folds = KFold(n_splits = 7)\n",
        "\n",
        "for train_idx, val_idx in folds.split(train_data2):\n",
        "\n",
        "  train_x = train_data2.iloc[train_idx, :]\n",
        "  train_y = train_label2[train_idx]\n",
        "\n",
        "  val_x = train_data2.iloc[val_idx, :]\n",
        "  val_y = train_label2.iloc[val_idx]\n",
        "\n",
        "  model = LGBMRegressor(objective = \"regression\",\n",
        "                        max_depth = 5,\n",
        "                        n_estimators = 2000,\n",
        "                        learning_rate = 0.01,\n",
        "                        num_leaves = 31)\n",
        "  \n",
        "  model.fit(train_x, train_y,\n",
        "            eval_set = [(val_x, val_y)],\n",
        "            eval_metric = [\"rmse\"],\n",
        "            early_stopping_rounds = 500,\n",
        "            verbose = 500)\n",
        "  \n",
        "  models2.append(model)"
      ],
      "execution_count": null,
      "outputs": [
        {
          "output_type": "stream",
          "name": "stdout",
          "text": [
            "Training until validation scores don't improve for 500 rounds.\n",
            "[500]\tvalid_0's l2: 15745\tvalid_0's rmse: 125.479\n",
            "Early stopping, best iteration is:\n",
            "[247]\tvalid_0's l2: 15654.4\tvalid_0's rmse: 125.118\n",
            "Training until validation scores don't improve for 500 rounds.\n",
            "[500]\tvalid_0's l2: 20210.4\tvalid_0's rmse: 142.163\n",
            "[1000]\tvalid_0's l2: 20135.5\tvalid_0's rmse: 141.9\n",
            "[1500]\tvalid_0's l2: 20129.3\tvalid_0's rmse: 141.878\n",
            "Early stopping, best iteration is:\n",
            "[1229]\tvalid_0's l2: 20108.7\tvalid_0's rmse: 141.805\n",
            "Training until validation scores don't improve for 500 rounds.\n",
            "[500]\tvalid_0's l2: 16729\tvalid_0's rmse: 129.34\n",
            "Early stopping, best iteration is:\n",
            "[54]\tvalid_0's l2: 16603.8\tvalid_0's rmse: 128.856\n",
            "Training until validation scores don't improve for 500 rounds.\n",
            "[500]\tvalid_0's l2: 11006.7\tvalid_0's rmse: 104.913\n",
            "Early stopping, best iteration is:\n",
            "[18]\tvalid_0's l2: 10845.8\tvalid_0's rmse: 104.143\n",
            "Training until validation scores don't improve for 500 rounds.\n",
            "[500]\tvalid_0's l2: 7196.27\tvalid_0's rmse: 84.8308\n",
            "Early stopping, best iteration is:\n",
            "[60]\tvalid_0's l2: 7112.54\tvalid_0's rmse: 84.3358\n",
            "Training until validation scores don't improve for 500 rounds.\n",
            "[500]\tvalid_0's l2: 3609.59\tvalid_0's rmse: 60.0799\n",
            "Early stopping, best iteration is:\n",
            "[82]\tvalid_0's l2: 3520.98\tvalid_0's rmse: 59.3378\n",
            "Training until validation scores don't improve for 500 rounds.\n",
            "[500]\tvalid_0's l2: 2007.13\tvalid_0's rmse: 44.801\n",
            "[1000]\tvalid_0's l2: 2006.12\tvalid_0's rmse: 44.7898\n",
            "Early stopping, best iteration is:\n",
            "[696]\tvalid_0's l2: 1996.88\tvalid_0's rmse: 44.6864\n"
          ]
        }
      ]
    },
    {
      "cell_type": "code",
      "metadata": {
        "id": "UwqM4E5fmRWk"
      },
      "source": [
        "result = []\n",
        "for i in models:\n",
        "  result.append(i.predict(test_data_1))\n",
        "predict = np.mean(result, axis = 0)"
      ],
      "execution_count": null,
      "outputs": []
    },
    {
      "cell_type": "code",
      "metadata": {
        "id": "jkciQaMGL9It"
      },
      "source": [
        "result2 = []\n",
        "for i in models2:\n",
        "  result2.append(i.predict(test_data_2))\n",
        "predict2 = np.mean(result2, axis = 0)"
      ],
      "execution_count": null,
      "outputs": []
    },
    {
      "cell_type": "code",
      "metadata": {
        "id": "pRZ2GJSAL-md"
      },
      "source": [
        "for i in predict:\n",
        "  if i > 146:\n",
        "    i = 146\n",
        "\n",
        "for i in predict2:\n",
        "  if i > 146:\n",
        "    i = 146"
      ],
      "execution_count": null,
      "outputs": []
    },
    {
      "cell_type": "code",
      "metadata": {
        "id": "sZ5idX2mSwSj"
      },
      "source": [
        "idx_0 = test[test.hist_d <= 30].index\n",
        "idx_1 = test[test.hist_d > 30].index\n",
        "\n",
        "predict_1 = predict + test.loc[idx_0]['hist_d']\n",
        "predict_2 = predict2 + test.loc[idx_1]['hist_d']\n",
        "\n",
        "submission.loc[predict_1.index, \"hold_d\"] = predict_1.loc[predict_1.index]\n",
        "submission.loc[predict_2.index, \"hold_d\"] = predict_2.loc[predict_2.index]\n",
        "\n",
        "submission.to_csv(\"/content/drive/MyDrive/Colab Notebooks/open/dacon_baseline2.csv\", index = False)"
      ],
      "execution_count": null,
      "outputs": []
    }
  ]
}
